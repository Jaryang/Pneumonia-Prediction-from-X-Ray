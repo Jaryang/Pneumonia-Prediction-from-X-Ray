{
 "cells": [
  {
   "cell_type": "code",
   "execution_count": 1,
   "id": "dd354e27",
   "metadata": {},
   "outputs": [],
   "source": [
    "import cv2\n",
    "import torch\n",
    "from torch.utils import data\n",
    "from torch.utils.data import Dataset, DataLoader\n",
    "import torchvision.transforms as T\n",
    "from torchvision.transforms import InterpolationMode\n",
    "import pandas as pd\n",
    "import pytorch_lightning as pl\n",
    "from torchvision.io import read_image\n",
    "import matplotlib.pyplot as plt\n",
    "from torchvision.transforms import ToTensor\n",
    "from PIL import Image\n",
    "%matplotlib inline"
   ]
  },
  {
   "cell_type": "markdown",
   "id": "267ffe49",
   "metadata": {},
   "source": [
    "## Load the data"
   ]
  },
  {
   "cell_type": "code",
   "execution_count": 4,
   "id": "4ab8631f",
   "metadata": {},
   "outputs": [],
   "source": [
    "test_path = 'data/chest_xray/test'\n",
    "train_path = 'data/chest_xray/train'\n",
    "val_path = 'data/chest_xray/val'"
   ]
  },
  {
   "cell_type": "code",
   "execution_count": 5,
   "id": "b597412d",
   "metadata": {},
   "outputs": [],
   "source": [
    "img_info = pd.read_csv('./img_info.csv')\n",
    "test_df = img_info.loc[img_info.loc[:, 'data'] == 'Test']\n",
    "train_df = img_info.loc[img_info.loc[:, 'data'] == 'Train']\n",
    "val_df = test_df = img_info.loc[img_info.loc[:, 'data'] == 'Validation']"
   ]
  },
  {
   "cell_type": "code",
   "execution_count": 6,
   "id": "8d71c745",
   "metadata": {},
   "outputs": [
    {
     "name": "stdout",
     "output_type": "stream",
     "text": [
      "Percentage of Normal Images in the Training Data: 0.5093694606229425\n",
      "Percentage of Pneumonia Images in the Training Data: 0.4906305393770575\n"
     ]
    },
    {
     "name": "stderr",
     "output_type": "stream",
     "text": [
      "/Library/Frameworks/Python.framework/Versions/3.9/lib/python3.9/site-packages/pandas/core/indexing.py:1720: SettingWithCopyWarning: \n",
      "A value is trying to be set on a copy of a slice from a DataFrame.\n",
      "Try using .loc[row_indexer,col_indexer] = value instead\n",
      "\n",
      "See the caveats in the documentation: https://pandas.pydata.org/pandas-docs/stable/user_guide/indexing.html#returning-a-view-versus-a-copy\n",
      "  self._setitem_single_column(loc, value, pi)\n"
     ]
    }
   ],
   "source": [
    "normal_images = train_df.loc[train_df.loc[:,'label'] == 0]\n",
    "normal_images.loc[:,'imbalance'] = 1\n",
    "train_df = pd.concat([train_df, normal_images, normal_images]).reset_index(drop=True)\n",
    "print('Percentage of Normal Images in the Training Data: {}'.format(\n",
    "    len(train_df.loc[train_df.loc[:,'label'] == 0])/len(train_df.loc[:,'label'])))\n",
    "print('Percentage of Pneumonia Images in the Training Data: {}'.format(\n",
    "    len(train_df.loc[train_df.loc[:,'label'] == 1])/len(train_df.loc[:,'label'])))"
   ]
  },
  {
   "cell_type": "code",
   "execution_count": 7,
   "id": "4709732c",
   "metadata": {},
   "outputs": [],
   "source": [
    "class CustomImageDataset(Dataset):\n",
    "    def __init__(self, df, img_dir_path, transforms=None):\n",
    "        \"\"\"\n",
    "        You can set your custom dataset to take in more parameters than specified\n",
    "        here. But, I recommend at least you start with the three I listed here,\n",
    "        as these are standard\n",
    "\n",
    "        csv_file (str): file path to the csv file you created /\n",
    "        df (pandas df): pandas dataframe\n",
    "\n",
    "        img_dir_path: directory path to your images\n",
    "        transform: Compose (a PyTorch Class) that strings together several\n",
    "          transform functions (e.g. data augmentation steps)\n",
    "\n",
    "        One thing to note -- you technically could implement `transform` within\n",
    "        the dataset. No one is going to stop you, but you can think of the\n",
    "        transformations/augmentations you do as a hyperparameter. If you treat\n",
    "        it as a hyperparameter, you want to be able to experiment with different\n",
    "        transformations, and therefore, it would make more sense to decide those\n",
    "        transformations outside the dataset class and pass it to the dataset!\n",
    "        \"\"\"\n",
    "        self.img_labels = df\n",
    "        self.img_dir = img_dir_path\n",
    "        self.transforms = transforms\n",
    "        \n",
    "    def __len__(self):\n",
    "        \"\"\"\n",
    "        Returns: (int) length of your dataset\n",
    "        \"\"\"\n",
    "        return len(self.img_labels)\n",
    "\n",
    "    def __getitem__(self, idx):\n",
    "        \"\"\"\n",
    "        Loads and returns your sample (the image and the label) at the\n",
    "        specified index\n",
    "\n",
    "        Parameter: idx (int): index of interest\n",
    "\n",
    "        Returns: image, label\n",
    "        \"\"\"\n",
    "\n",
    "        img_path =  self.img_labels.iloc[idx, 1]\n",
    "        \n",
    "        image = Image.open(img_path).convert('RGB')\n",
    "\n",
    "        label = self.img_labels.iloc[idx, -1]\n",
    "        \n",
    "        imbalance = self.img_labels.iloc[idx, -2]\n",
    "\n",
    "        if self.transforms:\n",
    "            \n",
    "            if imbalance and not label:\n",
    "                image = transforms(image)\n",
    "                image = imbalance_transform(image)\n",
    "                \n",
    "            else:\n",
    "                image = transforms(image)\n",
    "               \n",
    "        return image, label"
   ]
  },
  {
   "cell_type": "code",
   "execution_count": 8,
   "id": "0e902f27",
   "metadata": {},
   "outputs": [],
   "source": [
    "transforms = T.Compose(\n",
    "    [\n",
    "        T.Resize((224,224), antialias=None, interpolation=InterpolationMode.BICUBIC),\n",
    "        T.RandomApply([\n",
    "            T.GaussianBlur(kernel_size=(5,5), sigma=(0.1, 0.2))\n",
    "        ], p=0.5),\n",
    "        T.RandomEqualize(),\n",
    "        T.ToTensor()\n",
    "    ]\n",
    ")\n",
    "\n",
    "\n",
    "imbalance_transform = T.Compose([\n",
    "    T.RandomHorizontalFlip(),\n",
    "    T.RandomRotation(degrees=10),\n",
    "    T.ColorJitter(brightness=0.1, contrast=0.1, saturation=0.1, hue=0.1),\n",
    "    T.RandomErasing(p=0.2)\n",
    "])"
   ]
  },
  {
   "cell_type": "code",
   "execution_count": 9,
   "id": "d00156bd",
   "metadata": {},
   "outputs": [],
   "source": [
    "training_data = CustomImageDataset(train_df, train_path, transforms=transforms)\n",
    "val_data = CustomImageDataset(val_df, val_path, transforms=transforms)\n",
    "test_data = CustomImageDataset(test_df, test_path, transforms=transforms)\n",
    "\n",
    "train_dataloader = DataLoader(training_data, batch_size=64, shuffle=True)\n",
    "val_dataloader = DataLoader(val_data, batch_size=64, shuffle=True)\n",
    "test_dataloader = DataLoader(test_data, batch_size=64, shuffle=True)"
   ]
  },
  {
   "cell_type": "code",
   "execution_count": 10,
   "id": "4e36bfc9",
   "metadata": {},
   "outputs": [
    {
     "data": {
      "text/plain": [
       "(tensor([[[0.0784, 0.0941, 0.0941,  ..., 0.0902, 0.0980, 0.0275],\n",
       "          [0.0784, 0.0941, 0.0941,  ..., 0.0941, 0.0941, 0.0275],\n",
       "          [0.0745, 0.0941, 0.0980,  ..., 0.0941, 0.0941, 0.0275],\n",
       "          ...,\n",
       "          [0.0000, 0.0000, 0.0000,  ..., 0.0118, 0.0118, 0.0118],\n",
       "          [0.0000, 0.0000, 0.0000,  ..., 0.0000, 0.0000, 0.0000],\n",
       "          [0.0000, 0.0000, 0.0000,  ..., 0.0000, 0.0000, 0.0000]],\n",
       " \n",
       "         [[0.0784, 0.0941, 0.0941,  ..., 0.0902, 0.0980, 0.0275],\n",
       "          [0.0784, 0.0941, 0.0941,  ..., 0.0941, 0.0941, 0.0275],\n",
       "          [0.0745, 0.0941, 0.0980,  ..., 0.0941, 0.0941, 0.0275],\n",
       "          ...,\n",
       "          [0.0000, 0.0000, 0.0000,  ..., 0.0118, 0.0118, 0.0118],\n",
       "          [0.0000, 0.0000, 0.0000,  ..., 0.0000, 0.0000, 0.0000],\n",
       "          [0.0000, 0.0000, 0.0000,  ..., 0.0000, 0.0000, 0.0000]],\n",
       " \n",
       "         [[0.0784, 0.0941, 0.0941,  ..., 0.0902, 0.0980, 0.0275],\n",
       "          [0.0784, 0.0941, 0.0941,  ..., 0.0941, 0.0941, 0.0275],\n",
       "          [0.0745, 0.0941, 0.0980,  ..., 0.0941, 0.0941, 0.0275],\n",
       "          ...,\n",
       "          [0.0000, 0.0000, 0.0000,  ..., 0.0118, 0.0118, 0.0118],\n",
       "          [0.0000, 0.0000, 0.0000,  ..., 0.0000, 0.0000, 0.0000],\n",
       "          [0.0000, 0.0000, 0.0000,  ..., 0.0000, 0.0000, 0.0000]]]),\n",
       " 0)"
      ]
     },
     "execution_count": 10,
     "metadata": {},
     "output_type": "execute_result"
    }
   ],
   "source": [
    "training_data[0]"
   ]
  },
  {
   "cell_type": "markdown",
   "id": "73506067",
   "metadata": {},
   "source": [
    "## Model Setup"
   ]
  },
  {
   "cell_type": "code",
   "execution_count": 19,
   "id": "00eee4df",
   "metadata": {},
   "outputs": [],
   "source": [
    "import torch.nn as nn \n",
    "import torch.nn.functional as F \n",
    "import torch.optim as optim"
   ]
  },
  {
   "cell_type": "code",
   "execution_count": 29,
   "id": "20fea7fd",
   "metadata": {},
   "outputs": [],
   "source": [
    "def train(model, criterion, optimizer, train_dataloader, val_dataloader, EPOCHS=20):\n",
    "    \"\"\"\n",
    "    Train the model and return relevant accuracy metric\n",
    "    \n",
    "    Input:\n",
    "        model: the defined neural network\n",
    "        criterion: the defined loss func\n",
    "        optimizer: the defined optimizer\n",
    "        train_dataloader & val_dataloader: DataLoader object\n",
    "        EPOCHS: int\n",
    "    Output:\n",
    "        model: trained model\n",
    "        train_losses, train_accuracies, val_losses, val_accuracies: acc metrics\n",
    "    \"\"\"\n",
    "\n",
    "    train_losses = []\n",
    "    train_accuracies = []\n",
    "    val_losses = []\n",
    "    val_accuracies = []\n",
    "\n",
    "    for epoch in range(EPOCHS):  # loop over the dataset multiple times\n",
    "\n",
    "        # TRAIN\n",
    "        # Make sure gradient tracking is on, and do a pass over the data\n",
    "        model.train()\n",
    "        running_loss = 0.0\n",
    "        running_matched = 0\n",
    "        for i, data in enumerate(train_dataloader):\n",
    "            # get the inputs; data is a list of [inputs, labels]\n",
    "            inputs, labels = data           # NOTE: depending on how you implemented your dataset class's __getitem__ it could be labels, inputs\n",
    "\n",
    "            # zero the parameter gradients\n",
    "            optimizer.zero_grad()\n",
    "\n",
    "            # forward + backward + optimize\n",
    "            outputs = model(inputs)\n",
    "            loss = criterion(outputs, labels)\n",
    "            loss.backward()\n",
    "            optimizer.step()\n",
    "\n",
    "            # keep track of the loss\n",
    "            running_loss += loss.item()\n",
    "\n",
    "            # CALCULATE ACCURACY METRIC\n",
    "            _, preds = torch.max(outputs, 1)  # Find out the predicted class with the highest prob\n",
    "            running_matched += torch.sum(preds == labels.data) # caculate the number of matched labels\n",
    "\n",
    "        avg_train_loss = running_loss / (i + 1)     # i + 1 gives us the total number of batches in train dataloader\n",
    "        avg_train_acc = running_matched.double() / len(train_dataloader.dataset)\n",
    "        train_losses.append(avg_train_loss)\n",
    "        train_accuracies.append(avg_train_acc)\n",
    "\n",
    "        # VALIDATE\n",
    "        # In the validation part, we don't want to keep track of the gradients \n",
    "        model.eval()\n",
    "        running_val_loss = 0.0\n",
    "        running_val_matched = 0\n",
    "        with torch.no_grad():\n",
    "            for i, data in enumerate(val_dataloader):\n",
    "                inputs, labels = data\n",
    "                outputs = model(inputs)\n",
    "                loss = criterion(outputs, labels)\n",
    "\n",
    "                # keep track of the loss\n",
    "                running_val_loss += loss.item()\n",
    "\n",
    "                # CALCULATE ACCURACY METRIC\n",
    "                _, preds = torch.max(outputs, 1)\n",
    "                running_val_matched += torch.sum(preds == labels.data)\n",
    "\n",
    "        avg_val_loss = running_val_loss / (i + 1)\n",
    "        avg_val_acc = running_val_matched.double() / len(val_dataloader.dataset)\n",
    "        val_losses.append(avg_val_loss)\n",
    "        val_accuracies.append(avg_val_acc)\n",
    "\n",
    "        # Print epoch summary\n",
    "        print(f\"Epoch {epoch+1}/{EPOCHS} | \"\n",
    "              f\"Train Loss: {avg_train_loss:.4f}, Train Acc: {avg_train_acc:.4f} | \"\n",
    "              f\"Val Loss: {avg_val_loss:.4f}, Val Acc: {avg_val_acc:.4f}\")\n",
    "        \n",
    "    return model, train_losses, train_accuracies, val_losses, val_accuracies\n",
    "\n",
    "\n",
    "def test(model, test_dataloader):\n",
    "    \"\"\"\n",
    "    Test the data and return test accuracy\n",
    "    \"\"\"\n",
    "\n",
    "    running_test_matched = 0\n",
    "\n",
    "    for i, data in enumerate(test_dataloader):\n",
    "        inputs, labels = data\n",
    "        outputs = model(inputs)\n",
    "        _, preds = torch.max(outputs, 1)\n",
    "        running_test_matched += torch.sum(preds == labels.data)\n",
    "    \n",
    "    test_acc = running_test_matched.double() / len(test_dataloader.dataset)\n",
    "    print(f\"Test accuracy: {float(test_acc):.4f}\")\n",
    "\n",
    "    return test_acc\n"
   ]
  },
  {
   "cell_type": "markdown",
   "id": "b163e19a",
   "metadata": {},
   "source": [
    "### Model - cross entropy + ReLU"
   ]
  },
  {
   "cell_type": "code",
   "execution_count": 20,
   "id": "ae62564a",
   "metadata": {},
   "outputs": [],
   "source": [
    "class CustomNeuralNetwork(nn.Module):\n",
    "    def __init__(self, dropout_rate=0.5):\n",
    "        super().__init__()\n",
    "        \n",
    "        self.LeNet = nn.Sequential(     \n",
    "            # convolutional layers            \n",
    "            nn.Sequential(                                            # FIRST LAYER: (INPUT LAYER)\n",
    "              nn.Conv2d(3, 6, kernel_size=3, stride=1, padding=0),    # CONVOLUTION \n",
    "              nn.BatchNorm2d(6),\n",
    "              nn.ReLU(),\n",
    "              nn.Dropout(p=dropout_rate),\n",
    "              nn.MaxPool2d(kernel_size=2, stride=2)),             # POOLING\n",
    "            nn.Sequential(                                            # SECOND LAYER: HIDDEN LAYER 1\n",
    "              nn.Conv2d(6, 16, kernel_size=3, stride=1, padding=0),   # CONVOLUTION \n",
    "              nn.BatchNorm2d(16),\n",
    "              nn.ReLU(),\n",
    "              nn.Dropout(p=dropout_rate),\n",
    "              nn.MaxPool2d(kernel_size=2, stride=2)),             # POOLING\n",
    "            # fully connected layers\n",
    "            nn.Flatten(),\n",
    "            # output layer\n",
    "            nn.Linear(16 * 54 * 54, 2)                                # OUTPUT LAYER\n",
    "        )\n",
    "\n",
    "    def forward(self, x):\n",
    "        out = self.LeNet(x)\n",
    "        return out\n"
   ]
  },
  {
   "cell_type": "code",
   "execution_count": 46,
   "id": "33af4cde",
   "metadata": {},
   "outputs": [],
   "source": [
    "import json\n",
    "\n",
    "def write_model_and_results(model, train_losses, train_accuracies, val_losses, val_accuracies, path):\n",
    "    \"\"\"\n",
    "    Save the model and results\n",
    "    \n",
    "    Inputs:\n",
    "        path: a list of str containing the path for model and the path for results\n",
    "    \"\"\"\n",
    "\n",
    "    train_acc = [float(i) for i in train_accuracies]\n",
    "    val_acc = [float(i) for i in val_accuracies]\n",
    "\n",
    "    result = {'train_losses': train_losses,\n",
    "             'train_accuracies': train_acc,\n",
    "             'val_losses': val_losses,\n",
    "             'val_accuracies': val_acc}\n",
    "    \n",
    "    # save model\n",
    "    torch.save(model.state_dict(), path[0])\n",
    "    # save results\n",
    "    with open(path[1], 'w') as f:\n",
    "        f.write(json.dumps(result))\n",
    "        "
   ]
  },
  {
   "cell_type": "code",
   "execution_count": 271,
   "id": "9c318a58",
   "metadata": {},
   "outputs": [],
   "source": [
    "model_1 = CustomNeuralNetwork()"
   ]
  },
  {
   "cell_type": "code",
   "execution_count": 275,
   "id": "b0a7a10c",
   "metadata": {},
   "outputs": [],
   "source": [
    "# Define a Loss function and optimizer\n",
    "criterion = nn.CrossEntropyLoss()\n",
    "optimizer = optim.SGD(model_1.parameters(), lr=0.001, momentum=0.9)"
   ]
  },
  {
   "cell_type": "code",
   "execution_count": 278,
   "id": "a0433ccc",
   "metadata": {},
   "outputs": [],
   "source": [
    "torch.save(model_1.state_dict(), 'model_relu')"
   ]
  },
  {
   "cell_type": "code",
   "execution_count": 21,
   "id": "da490cd3",
   "metadata": {},
   "outputs": [
    {
     "data": {
      "text/plain": [
       "CustomNeuralNetwork(\n",
       "  (LeNet): Sequential(\n",
       "    (0): Sequential(\n",
       "      (0): Conv2d(3, 6, kernel_size=(3, 3), stride=(1, 1))\n",
       "      (1): BatchNorm2d(6, eps=1e-05, momentum=0.1, affine=True, track_running_stats=True)\n",
       "      (2): ReLU()\n",
       "      (3): Dropout(p=0.5, inplace=False)\n",
       "      (4): MaxPool2d(kernel_size=2, stride=2, padding=0, dilation=1, ceil_mode=False)\n",
       "    )\n",
       "    (1): Sequential(\n",
       "      (0): Conv2d(6, 16, kernel_size=(3, 3), stride=(1, 1))\n",
       "      (1): BatchNorm2d(16, eps=1e-05, momentum=0.1, affine=True, track_running_stats=True)\n",
       "      (2): ReLU()\n",
       "      (3): Dropout(p=0.5, inplace=False)\n",
       "      (4): MaxPool2d(kernel_size=2, stride=2, padding=0, dilation=1, ceil_mode=False)\n",
       "    )\n",
       "    (2): Flatten(start_dim=1, end_dim=-1)\n",
       "    (3): Linear(in_features=46656, out_features=2, bias=True)\n",
       "  )\n",
       ")"
      ]
     },
     "execution_count": 21,
     "metadata": {},
     "output_type": "execute_result"
    }
   ],
   "source": [
    "model = CustomNeuralNetwork()\n",
    "model.load_state_dict(torch.load('model_relu'))\n",
    "model.eval()"
   ]
  },
  {
   "cell_type": "code",
   "execution_count": 22,
   "id": "b6390db1",
   "metadata": {},
   "outputs": [
    {
     "name": "stdout",
     "output_type": "stream",
     "text": [
      "Test accuracy: tensor(0.9375, dtype=torch.float64)\n"
     ]
    },
    {
     "data": {
      "text/plain": [
       "tensor(0.9375, dtype=torch.float64)"
      ]
     },
     "execution_count": 22,
     "metadata": {},
     "output_type": "execute_result"
    }
   ],
   "source": [
    "test(model, test_dataloader)"
   ]
  },
  {
   "cell_type": "markdown",
   "id": "830baa80",
   "metadata": {},
   "source": [
    "### Model - NLL + ReLU"
   ]
  },
  {
   "cell_type": "code",
   "execution_count": 23,
   "id": "9197b9d3",
   "metadata": {},
   "outputs": [],
   "source": [
    "class CustomNeuralNetwork_1(nn.Module):\n",
    "    def __init__(self, dropout_rate=0.5):\n",
    "        super().__init__()\n",
    "        \n",
    "        self.LeNet = nn.Sequential(     \n",
    "            # convolutional layers            \n",
    "            nn.Sequential(                                            # FIRST LAYER: (INPUT LAYER)\n",
    "              nn.Conv2d(3, 6, kernel_size=3, stride=1, padding=0),    # CONVOLUTION \n",
    "              nn.BatchNorm2d(6),\n",
    "              nn.ReLU(),\n",
    "              nn.Dropout(p=dropout_rate),\n",
    "              nn.MaxPool2d(kernel_size = 2, stride = 2)),             # POOLING\n",
    "            nn.Sequential(                                            # SECOND LAYER: HIDDEN LAYER 1\n",
    "              nn.Conv2d(6, 16, kernel_size=3, stride=1, padding=0),   # CONVOLUTION \n",
    "              nn.BatchNorm2d(16),\n",
    "              nn.ReLU(),\n",
    "              nn.Dropout(p=dropout_rate),\n",
    "              nn.MaxPool2d(kernel_size = 2, stride = 2)),             # POOLING\n",
    "            # fully connected layers\n",
    "            nn.Flatten(),\n",
    "            # output layer\n",
    "            nn.Linear(16 * 54 * 54, 2)                                # OUTPUT LAYER\n",
    "        )\n",
    "\n",
    "    def forward(self, x):\n",
    "        out = self.LeNet(x)\n",
    "        return F.log_softmax(out, dim=1)"
   ]
  },
  {
   "cell_type": "code",
   "execution_count": 24,
   "id": "7c8e0816",
   "metadata": {},
   "outputs": [],
   "source": [
    "model_1 = CustomNeuralNetwork_1()"
   ]
  },
  {
   "cell_type": "code",
   "execution_count": 25,
   "id": "cceffe35",
   "metadata": {},
   "outputs": [],
   "source": [
    "criterion = nn.NLLLoss()\n",
    "optimizer = optim.SGD(model_1.parameters(), lr=0.001, momentum=0.9)"
   ]
  },
  {
   "cell_type": "code",
   "execution_count": 30,
   "id": "b7f9c3c2",
   "metadata": {},
   "outputs": [
    {
     "name": "stdout",
     "output_type": "stream",
     "text": [
      "Epoch 1/20 | Train Loss: -12.0363, Train Acc: 0.9943 | Val Loss: -1.2804, Val Acc: 1.0000\n",
      "Epoch 2/20 | Train Loss: -12.0629, Train Acc: 0.9932 | Val Loss: -1.4058, Val Acc: 1.0000\n",
      "Epoch 3/20 | Train Loss: -12.0540, Train Acc: 0.9943 | Val Loss: -1.1788, Val Acc: 0.9375\n",
      "Epoch 4/20 | Train Loss: -12.0892, Train Acc: 0.9934 | Val Loss: -0.9882, Val Acc: 0.8750\n",
      "Epoch 5/20 | Train Loss: -12.0210, Train Acc: 0.9923 | Val Loss: -1.0586, Val Acc: 0.8750\n",
      "Epoch 6/20 | Train Loss: -12.0344, Train Acc: 0.9939 | Val Loss: -1.3229, Val Acc: 1.0000\n",
      "Epoch 7/20 | Train Loss: -12.0122, Train Acc: 0.9939 | Val Loss: -1.5644, Val Acc: 1.0000\n",
      "Epoch 8/20 | Train Loss: -12.0886, Train Acc: 0.9943 | Val Loss: -1.3208, Val Acc: 1.0000\n",
      "Epoch 9/20 | Train Loss: -12.0253, Train Acc: 0.9929 | Val Loss: -1.1008, Val Acc: 1.0000\n",
      "Epoch 10/20 | Train Loss: -12.0723, Train Acc: 0.9939 | Val Loss: -1.2783, Val Acc: 0.9375\n",
      "Epoch 11/20 | Train Loss: -12.0759, Train Acc: 0.9930 | Val Loss: -1.4516, Val Acc: 1.0000\n",
      "Epoch 12/20 | Train Loss: -12.0530, Train Acc: 0.9928 | Val Loss: -1.3293, Val Acc: 0.9375\n",
      "Epoch 13/20 | Train Loss: -12.0029, Train Acc: 0.9948 | Val Loss: -1.1596, Val Acc: 0.9375\n",
      "Epoch 14/20 | Train Loss: -12.0290, Train Acc: 0.9938 | Val Loss: -1.3563, Val Acc: 0.9375\n",
      "Epoch 15/20 | Train Loss: -12.0144, Train Acc: 0.9938 | Val Loss: -1.0503, Val Acc: 0.8750\n",
      "Epoch 16/20 | Train Loss: -12.0137, Train Acc: 0.9939 | Val Loss: -1.2445, Val Acc: 0.9375\n",
      "Epoch 17/20 | Train Loss: -12.0283, Train Acc: 0.9930 | Val Loss: -1.1898, Val Acc: 0.9375\n",
      "Epoch 18/20 | Train Loss: -12.0925, Train Acc: 0.9935 | Val Loss: -1.1299, Val Acc: 0.8750\n",
      "Epoch 19/20 | Train Loss: -12.0764, Train Acc: 0.9930 | Val Loss: -1.2531, Val Acc: 0.8750\n",
      "Epoch 20/20 | Train Loss: -12.0482, Train Acc: 0.9921 | Val Loss: -1.0457, Val Acc: 0.8750\n"
     ]
    }
   ],
   "source": [
    "model_2, train_losses, train_accuracies, val_losses, val_accuracies = train(model, \n",
    "                                                                            criterion, \n",
    "                                                                            optimizer, \n",
    "                                                                            train_dataloader, \n",
    "                                                                            val_dataloader, \n",
    "                                                                            EPOCHS=20)"
   ]
  },
  {
   "cell_type": "code",
   "execution_count": 43,
   "id": "ae79d492",
   "metadata": {},
   "outputs": [
    {
     "name": "stdout",
     "output_type": "stream",
     "text": [
      "Test accuracy:0.9375\n"
     ]
    },
    {
     "data": {
      "text/plain": [
       "tensor(0.9375, dtype=torch.float64)"
      ]
     },
     "execution_count": 43,
     "metadata": {},
     "output_type": "execute_result"
    }
   ],
   "source": [
    "test(model_2, test_dataloader)"
   ]
  },
  {
   "cell_type": "code",
   "execution_count": 37,
   "id": "42979fc9",
   "metadata": {},
   "outputs": [],
   "source": [
    "path = ['model_relu_NLL.PT', 'result_relu_NLL.txt']\n",
    "write_model_and_results(model_2, train_losses, train_accuracies, val_losses, val_accuracies, path)"
   ]
  },
  {
   "cell_type": "code",
   "execution_count": null,
   "id": "4d8be699",
   "metadata": {},
   "outputs": [],
   "source": []
  }
 ],
 "metadata": {
  "kernelspec": {
   "display_name": "Python 3",
   "language": "python",
   "name": "python3"
  },
  "language_info": {
   "codemirror_mode": {
    "name": "ipython",
    "version": 3
   },
   "file_extension": ".py",
   "mimetype": "text/x-python",
   "name": "python",
   "nbconvert_exporter": "python",
   "pygments_lexer": "ipython3",
   "version": "3.9.5"
  }
 },
 "nbformat": 4,
 "nbformat_minor": 5
}
